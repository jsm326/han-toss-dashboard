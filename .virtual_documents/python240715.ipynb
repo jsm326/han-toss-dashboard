import pandas as pd
import matplotlib.pyplot as plt
import matplotlib.dates as mdates
import seaborn as sns
import numpy as np
from scipy import stats
from scipy.stats import pearsonr
import statsmodels.api as sm
import streamlit as st


file_path = "C:/Users/user/Desktop/han-toss-dashboard/data/ecos.csv"
df = pd.read_csv(file_path)
df.head()


df['DATE'] = pd.to_datetime(df['DATE'])


years = mdates.YearLocator()  # every year
years_fmt = mdates.DateFormatter('%Y')


fig, ax = plt.subplots(3,2, figsize = (20,15))
# 첫 번째 서브플롯
ax[0, 0].plot(df['DATE'], df['aptpriceindex'])
ax[0, 0].set_xlabel('Date')
ax[0, 0].set_ylabel('Price Index')
ax[0, 0].set_title('Price Index Over Time')
ax[0, 0].xaxis.set_major_locator(years)
ax[0, 0].xaxis.set_major_formatter(years_fmt)

ax[0, 1].plot(df['DATE'], df['cd'])
ax[0, 1].set_xlabel('Date')
ax[0, 1].set_ylabel('CD')
ax[0, 1].set_title('CD Over Time')

ax[1, 0].plot(df['DATE'], df['unemploymentrate'])
ax[1, 0].set_xlabel('Date')
ax[1, 0].set_ylabel('unemploymentrate')
ax[1, 0].set_title('unemploymentrate Over Time')

ax[1, 1].plot(df['DATE'], df['constructionpricerate'])
ax[1, 1].set_xlabel('Date')
ax[1, 1].set_ylabel('constructionpricerate')
ax[1, 1].set_title('constructionpricerate Over Time')

ax[2, 0].plot(df['DATE'], df['cpi'])
ax[2, 0].set_xlabel('Date')
ax[2, 0].set_ylabel('cpi')
ax[2, 0].set_title('cpi Over Time')


# 다섯 가지 지표를 한 그래프에 표시
ax[2, 1].plot(df['DATE'], df['aptpriceindex'], marker='o', label='aptpriceindex')
ax[2, 1].plot(df['DATE'], df['cd'], marker='x', label='cd')
ax[2, 1].plot(df['DATE'], df['unemploymentrate'], marker='s', label='unemploymentrate')
ax[2, 1].plot(df['DATE'], df['constructionpricerate'], marker='d', label='constructionpricerate')
ax[2, 1].plot(df['DATE'], df['cpi'], marker='^', label='cpi')
ax[2, 1].set_xlabel('Date')
ax[2, 1].set_ylabel('Value')
ax[2, 1].set_title('All Indicators Over Time')
ax[2, 1].set_yscale('log')
ax[2, 1].legend()




# 날짜 레이블이 잘 보이도록 회전
for ax_row in ax:
    for ax_item in ax_row:
        for label in ax_item.get_xticklabels():
            label.set_rotation(45)
            
# 레이아웃 조정
plt.tight_layout()

# 그래프 보여주기
plt.show()





X = df[['cd', 'unemploymentrate', 'constructionpricerate', 'cpi']]
y = df['aptpriceindex']
# 상수 추가
X = sm.add_constant(X)

# 회귀 모델 적합
model = sm.OLS(y, X).fit()

# 회귀 분석 결과 출력
print(model.summary())


# 잔차 플롯
plt.figure(figsize=(10, 6))
sns.residplot(x=model.fittedvalues, y=model.resid, lowess=True, line_kws={'color': 'red'})
plt.xlabel('Fitted values')
plt.ylabel('Residuals')
plt.title('Residuals vs Fitted')
plt.tight_layout()
plt.show()


# 2. 잔차의 정규성 검정 (Q-Q Plot)
sm.qqplot(model.resid, line='s')
plt.title('Normal Q-Q')
plt.tight_layout()
plt.show()


# 3. 예측 값 대 실제 값 플롯
plt.figure(figsize=(10, 6))
plt.scatter(model.fittedvalues, y)
plt.plot(model.fittedvalues, model.fittedvalues, color='red')
plt.xlabel('Fitted values')
plt.ylabel('Actual values')
plt.title('Fitted vs Actual')
plt.tight_layout()
plt.show()


# 4. 잔차의 자기상관 (ACF 플롯)
from statsmodels.graphics.tsaplots import plot_acf, plot_pacf

fig, ax = plt.subplots(1, 2, figsize=(16, 6))

plot_acf(model.resid, lags=30, ax=ax[0])
plot_pacf(model.resid, lags=30, ax=ax[1])
ax[0].set_title('ACF of Residuals')
ax[1].set_title('PACF of Residuals')
plt.tight_layout()
plt.show()






