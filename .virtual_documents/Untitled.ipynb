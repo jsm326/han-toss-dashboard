import numpy as np


A = np.array([[60., 30., 20.],
              [30., 20., 15.],
              [20., 15., 12.]])

w, V = np.linalg.eig(A)
w1, w2, w3 = w
v1 = V[:, 0:1]
v2 = V[:, 1:2]
v3 = V[:, 2:3]
A1 = v1 @ v1.T
A2 = v2 @ v2.T
A3 = v3 @ v3.T


A.T





w, V = np.linalg.eig(A) # w : 고유값 벡터, V : 고유 벡터 행렬


w1, w2, w3 = w
w


V


v1 = V[:, 0:1]
v2 = V[:, 1:2]
v3 = V[:, 2:3]


# 고윳값 벡터 확인
w





(w1 * A1) + (w2 * A2) + (w3 * A3)


# A의 역행렬 구하기
np.linalg.inv(A)


(1/w1 * A1) + (1/w2 * A2) + (1/w3 * A3)



